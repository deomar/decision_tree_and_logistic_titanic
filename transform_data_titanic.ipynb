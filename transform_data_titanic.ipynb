{
 "cells": [
  {
   "cell_type": "code",
   "execution_count": 175,
   "id": "43b5eceb",
   "metadata": {},
   "outputs": [],
   "source": [
    "# Import libraries\n",
    "\n",
    "import pandas as pd\n",
    "import numpy as np\n",
    "from scipy import stats\n",
    "\n",
    "import graphviz\n",
    "\n",
    "from sklearn.model_selection import train_test_split\n",
    "from sklearn.tree import DecisionTreeClassifier, export_graphviz\n",
    "\n",
    "from IPython.display import Image\n",
    "from PIL import Image as PIL_Image\n",
    "import io\n",
    "\n",
    "from sklearn.tree import DecisionTreeClassifier\n",
    "from sklearn.model_selection import GridSearchCV\n",
    "\n",
    "from sklearn.linear_model import LogisticRegression\n",
    "from IPython.display import Image\n",
    "\n",
    "from sklearn.metrics import accuracy_score, confusion_matrix\n",
    "import warnings"
   ]
  },
  {
   "cell_type": "markdown",
   "id": "e567a3c1",
   "metadata": {},
   "source": [
    "##### Load Data"
   ]
  },
  {
   "cell_type": "code",
   "execution_count": 176,
   "id": "19cb8bc9",
   "metadata": {},
   "outputs": [],
   "source": [
    "# Load dataset\n",
    "# URL: https://www.kaggle.com/competitions/titanic/data\n",
    "\n",
    "df_titanic = pd.read_csv(r\"C:\\Users\\Deomar Santos\\Desktop\\Development Plan\\Machine Learning\\Decision Trees and Logistic Regression - Titanic\\Titanic\\Titanic-Dataset.csv\", sep=',')"
   ]
  },
  {
   "cell_type": "code",
   "execution_count": 177,
   "id": "b9ff74f9",
   "metadata": {},
   "outputs": [],
   "source": [
    "# List of variables\n",
    "\n",
    "# Variable        Definition          Key\n",
    "# survival        Survival            0 = No, 1 = Yes\n",
    "# pclass          Ticket class        1 = 1st, 2 = 2nd, 3 = 3rd\n",
    "# sex             Sex\n",
    "# Age             Age in years\n",
    "# sibsp           # of siblings / spouses aboard the Titanic\t\n",
    "# parch           # of parents / children aboard the Titanic\t\n",
    "# ticket          Ticket number\n",
    "# fare            Passenger fare\n",
    "# cabin\t          Cabin number\n",
    "# embarked        Port of Embarkation  C = Cherbourg, Q = Queenstown, S = Southampton"
   ]
  },
  {
   "cell_type": "code",
   "execution_count": 178,
   "id": "c417da84",
   "metadata": {},
   "outputs": [
    {
     "name": "stdout",
     "output_type": "stream",
     "text": [
      "<class 'pandas.core.frame.DataFrame'>\n",
      "RangeIndex: 891 entries, 0 to 890\n",
      "Data columns (total 12 columns):\n",
      " #   Column       Non-Null Count  Dtype  \n",
      "---  ------       --------------  -----  \n",
      " 0   PassengerId  891 non-null    int64  \n",
      " 1   Survived     891 non-null    int64  \n",
      " 2   Pclass       891 non-null    int64  \n",
      " 3   Name         891 non-null    object \n",
      " 4   Sex          891 non-null    object \n",
      " 5   Age          714 non-null    float64\n",
      " 6   SibSp        891 non-null    int64  \n",
      " 7   Parch        891 non-null    int64  \n",
      " 8   Ticket       891 non-null    object \n",
      " 9   Fare         891 non-null    float64\n",
      " 10  Cabin        204 non-null    object \n",
      " 11  Embarked     889 non-null    object \n",
      "dtypes: float64(2), int64(5), object(5)\n",
      "memory usage: 83.7+ KB\n"
     ]
    }
   ],
   "source": [
    "## Check the variables and the presence of null values\n",
    "\n",
    "# The columns that have null values are:\n",
    "# Age, Cabin and Embarked\n",
    "\n",
    "df_titanic.info()"
   ]
  },
  {
   "cell_type": "markdown",
   "id": "f59b52f9",
   "metadata": {},
   "source": [
    "##### Transform Data"
   ]
  },
  {
   "cell_type": "code",
   "execution_count": 179,
   "id": "f41e9360",
   "metadata": {},
   "outputs": [],
   "source": [
    "# Age"
   ]
  },
  {
   "cell_type": "code",
   "execution_count": 180,
   "id": "68d715b9",
   "metadata": {},
   "outputs": [
    {
     "name": "stdout",
     "output_type": "stream",
     "text": [
      "% of null data in column 'Age':  19.87\n"
     ]
    }
   ],
   "source": [
    "print(\"% of null data in column 'Age': \", round((df_titanic['Age'].isnull().sum()/len(df_titanic)*100), 2))"
   ]
  },
  {
   "cell_type": "code",
   "execution_count": 181,
   "id": "e4de86b3",
   "metadata": {},
   "outputs": [],
   "source": [
    "# As we have 20% of age data missing, we are going to replace the null values with the mean age in order to not change the statistics of the column by transforming.\n",
    "# Note: this is one of the main methods used for working with age data"
   ]
  },
  {
   "cell_type": "code",
   "execution_count": 182,
   "id": "a9fd6d99",
   "metadata": {},
   "outputs": [],
   "source": [
    "# Replace the null values with the mean age\n",
    "df_titanic['Age'] = df_titanic['Age'].fillna(df_titanic['Age'].mean())"
   ]
  },
  {
   "cell_type": "code",
   "execution_count": 183,
   "id": "b1645f16",
   "metadata": {},
   "outputs": [],
   "source": [
    "# Embarked"
   ]
  },
  {
   "cell_type": "code",
   "execution_count": 184,
   "id": "37097be5",
   "metadata": {},
   "outputs": [
    {
     "name": "stdout",
     "output_type": "stream",
     "text": [
      "% of null data in column 'Embarked':  0.22\n"
     ]
    }
   ],
   "source": [
    "print(\"% of null data in column 'Embarked': \", round((df_titanic['Embarked'].isnull().sum()/len(df_titanic)*100), 2))"
   ]
  },
  {
   "cell_type": "code",
   "execution_count": 185,
   "id": "b54bd9b9",
   "metadata": {},
   "outputs": [],
   "source": [
    "# In this case less than 3% of the data is missing, so we could just delete that data, but instead, in order to preserve the other information of those data, we are going to use another method"
   ]
  },
  {
   "cell_type": "code",
   "execution_count": 186,
   "id": "f27cbaae",
   "metadata": {},
   "outputs": [
    {
     "name": "stdout",
     "output_type": "stream",
     "text": [
      "Embarked\n",
      "S    72.440945\n",
      "C    18.897638\n",
      "Q     8.661417\n",
      "Name: PassengerId, dtype: float64\n"
     ]
    }
   ],
   "source": [
    "# We can notice that most part of passenger Embarked in 'Southampton' (72%), so a good approach would be replace the missing data with the most frequent data (Southampton)\n",
    "\n",
    "print(df_titanic.groupby(by=['Embarked']).count()['PassengerId'].sort_values(ascending=False)/df_titanic.groupby(by=['Embarked']).count()['PassengerId'].sort_values(ascending=False).sum()*100)"
   ]
  },
  {
   "cell_type": "code",
   "execution_count": 187,
   "id": "0bcc8e2e",
   "metadata": {},
   "outputs": [],
   "source": [
    "# Replace the missing data with the most frequent data (Southrampton)\n",
    "\n",
    "df_titanic['Embarked'] = df_titanic['Embarked'].fillna(df_titanic.groupby(by=['Embarked']).count()['PassengerId'].sort_values(ascending=False)[:1].index[0])"
   ]
  },
  {
   "cell_type": "code",
   "execution_count": 188,
   "id": "6606a7ce",
   "metadata": {},
   "outputs": [],
   "source": [
    "# Cabin"
   ]
  },
  {
   "cell_type": "code",
   "execution_count": 189,
   "id": "36fb9286",
   "metadata": {},
   "outputs": [
    {
     "name": "stdout",
     "output_type": "stream",
     "text": [
      "% of null data in column 'Cabin':  77.1\n"
     ]
    }
   ],
   "source": [
    "print(\"% of null data in column 'Cabin': \", round(df_titanic['Cabin'].isnull().sum()/len(df_titanic)*100, 2))"
   ]
  },
  {
   "cell_type": "code",
   "execution_count": 190,
   "id": "06be5bf9",
   "metadata": {},
   "outputs": [],
   "source": [
    "# Most of the 'Cabin' data is missing (77%) so is better just drop this column because likely there is not a way to replace the missing data in order to improve the analysis"
   ]
  },
  {
   "cell_type": "code",
   "execution_count": 191,
   "id": "1fbfc707",
   "metadata": {},
   "outputs": [],
   "source": [
    "# Drop the 'Cabin' column\n",
    "\n",
    "df_titanic = df_titanic.drop(columns=['Cabin'])"
   ]
  },
  {
   "cell_type": "code",
   "execution_count": 192,
   "id": "0d0a4627",
   "metadata": {},
   "outputs": [
    {
     "name": "stdout",
     "output_type": "stream",
     "text": [
      "<class 'pandas.core.frame.DataFrame'>\n",
      "RangeIndex: 891 entries, 0 to 890\n",
      "Data columns (total 11 columns):\n",
      " #   Column       Non-Null Count  Dtype  \n",
      "---  ------       --------------  -----  \n",
      " 0   PassengerId  891 non-null    int64  \n",
      " 1   Survived     891 non-null    int64  \n",
      " 2   Pclass       891 non-null    int64  \n",
      " 3   Name         891 non-null    object \n",
      " 4   Sex          891 non-null    object \n",
      " 5   Age          891 non-null    float64\n",
      " 6   SibSp        891 non-null    int64  \n",
      " 7   Parch        891 non-null    int64  \n",
      " 8   Ticket       891 non-null    object \n",
      " 9   Fare         891 non-null    float64\n",
      " 10  Embarked     891 non-null    object \n",
      "dtypes: float64(2), int64(5), object(4)\n",
      "memory usage: 76.7+ KB\n"
     ]
    }
   ],
   "source": [
    "# Now we have all the data complete in the dataset\n",
    "\n",
    "df_titanic.info()"
   ]
  },
  {
   "cell_type": "markdown",
   "id": "29d3a2da",
   "metadata": {},
   "source": [
    "##### Basic Descriptive analysis"
   ]
  },
  {
   "cell_type": "code",
   "execution_count": 193,
   "id": "c05fdb9a",
   "metadata": {},
   "outputs": [],
   "source": [
    "# In order to understand the relationship between the survive and the other variables, let's create some assumptions and validate them"
   ]
  },
  {
   "cell_type": "code",
   "execution_count": 194,
   "id": "fc304cb3",
   "metadata": {},
   "outputs": [],
   "source": [
    "# Maybe there is a relationship between how much money someone pays for the ticket and the probability to survive, given that theoretically\n",
    "# richer groups have advantages. To validate this, let's split fare in different ranges"
   ]
  },
  {
   "cell_type": "code",
   "execution_count": 195,
   "id": "b2260166",
   "metadata": {},
   "outputs": [
    {
     "name": "stdout",
     "output_type": "stream",
     "text": [
      "Maximum Fare :  512.33\n",
      "Minimum Fare :  0.0\n"
     ]
    }
   ],
   "source": [
    "# To define the range, one approach is to define ranges between the minimum and maximum fares\n",
    "print('Maximum Fare : ', round(df_titanic['Fare'].max(), 2))\n",
    "print('Minimum Fare : ', round(df_titanic['Fare'].min(), 2))"
   ]
  },
  {
   "cell_type": "code",
   "execution_count": 196,
   "id": "0486387b",
   "metadata": {},
   "outputs": [],
   "source": [
    "# Defining equally spaced intervals with the step of 15 USD \n",
    "\n",
    "split_range = np.array([0, 20, 40, 60, 80])"
   ]
  },
  {
   "cell_type": "code",
   "execution_count": 197,
   "id": "501786e1",
   "metadata": {},
   "outputs": [],
   "source": [
    "# Labeling every passenger regarding to the fare paid\n",
    "\n",
    "def return_chunks(data, data_range):\n",
    "    for chunk_point in split_range[::-1]:\n",
    "        if (data >= chunk_point):\n",
    "            return chunk_point\n",
    "#df_titanic['FareChunks'] = df_titanic['Fare'].apply(return_chunks, data_range=split_range)\n",
    "df_titanic['FareChunks_Range'] = df_titanic['Fare'].apply(return_chunks, data_range=split_range)"
   ]
  },
  {
   "cell_type": "code",
   "execution_count": 198,
   "id": "9f83c50f",
   "metadata": {},
   "outputs": [],
   "source": [
    "# def split_range(data, chunks):\n",
    "#     chunk_size = (data['Fare'].max() - data['Fare'].min())/chunks\n",
    "# #     np.arange(data['Fare'].min(), data['Fare'].max(), chunk_size)\n",
    "#     range_list = np.arange(data['Fare'].min(), data['Fare'].max(), chunk_size)[::-1]\n",
    "#     return range_list\n",
    "\n",
    "# range_list = split_range(df_titanic, 5)"
   ]
  },
  {
   "cell_type": "code",
   "execution_count": 199,
   "id": "8203cac6",
   "metadata": {
    "scrolled": true
   },
   "outputs": [
    {
     "data": {
      "text/plain": [
       "FareChunks_Range\n",
       "0     27.766990\n",
       "20    43.000000\n",
       "40    57.407407\n",
       "60    50.000000\n",
       "80    77.631579\n",
       "Name: Survived, dtype: float64"
      ]
     },
     "execution_count": 199,
     "metadata": {},
     "output_type": "execute_result"
    }
   ],
   "source": [
    "# Calculating the percentage of survival by group we notice that as much as you pay the more likely are you to survive, except for passenger\n",
    "# that paied between 40-60\n",
    "\n",
    "# This is an indicative that could be another variable that changes this pattern in the 40-60 group\n",
    "\n",
    "df_titanic.groupby(by=['FareChunks_Range'])['Survived'].sum()/df_titanic.groupby(by=['FareChunks_Range'])['Survived'].count()*100"
   ]
  },
  {
   "cell_type": "code",
   "execution_count": 200,
   "id": "7ab684b7",
   "metadata": {},
   "outputs": [],
   "source": [
    "# Another variable that we could check is if the child or not, given that the Titanic adopted the protocol to firstly save children and women \n",
    "\n",
    "# Just to check this main assumption, let's calculate the percentage of children and adults that survived\n",
    "# for this first caclulation we will consider a child as <= 12 year and adult < 12 year"
   ]
  },
  {
   "cell_type": "code",
   "execution_count": 201,
   "id": "6184266d",
   "metadata": {},
   "outputs": [],
   "source": [
    "# Label the passenger as child or an adult\n",
    "df_titanic['Maturity'] = df_titanic['Age'].apply(lambda x : 'Child' if x <= 12 else ('Adult' if x > 12 else np.nan))"
   ]
  },
  {
   "cell_type": "code",
   "execution_count": 202,
   "id": "b0267cb0",
   "metadata": {},
   "outputs": [
    {
     "data": {
      "text/plain": [
       "Maturity\n",
       "Adult    36.739659\n",
       "Child    57.971014\n",
       "Name: Survived, dtype: float64"
      ]
     },
     "execution_count": 202,
     "metadata": {},
     "output_type": "execute_result"
    }
   ],
   "source": [
    "# Calculating the percentage of children and adults that survived we can see that being a child has a higher chance of survive\n",
    "df_titanic.groupby(by=['Maturity'])['Survived'].sum()/df_titanic.groupby(by=['Maturity'])['Survived'].count()*100"
   ]
  },
  {
   "cell_type": "code",
   "execution_count": 203,
   "id": "65d90e9f",
   "metadata": {
    "scrolled": true
   },
   "outputs": [
    {
     "data": {
      "text/plain": [
       "FareChunks_Range  Maturity\n",
       "0                 Adult        95.922330\n",
       "                  Child         4.077670\n",
       "20                Adult        80.000000\n",
       "                  Child        20.000000\n",
       "40                Adult        92.592593\n",
       "                  Child         7.407407\n",
       "60                Adult       100.000000\n",
       "80                Adult        94.736842\n",
       "                  Child         5.263158\n",
       "dtype: float64"
      ]
     },
     "execution_count": 203,
     "metadata": {},
     "output_type": "execute_result"
    }
   ],
   "source": [
    "# Now calculating the percentage of children per fare range wee see that the fare group of 60-80 probably has less chance to survive because there are only adults on this group\n",
    "\n",
    "df_titanic.groupby(by=['FareChunks_Range',  'Maturity'])['Survived'].count()/df_titanic.groupby(by=['FareChunks_Range'])['Maturity'].apply(lambda x : x.notnull().sum())*100"
   ]
  },
  {
   "cell_type": "code",
   "execution_count": 204,
   "id": "ab2735e6",
   "metadata": {},
   "outputs": [],
   "source": [
    "# Another variable that we could check is if the passenger is woman or man, given that the Titanic adopted the protocol adopted\n",
    "\n",
    "# Just to check this main assumption, let's calculate the percentage of women and men that survived"
   ]
  },
  {
   "cell_type": "code",
   "execution_count": 205,
   "id": "9399946e",
   "metadata": {},
   "outputs": [
    {
     "data": {
      "text/plain": [
       "Sex\n",
       "female    0.742038\n",
       "male      0.188908\n",
       "Name: Survived, dtype: float64"
      ]
     },
     "execution_count": 205,
     "metadata": {},
     "output_type": "execute_result"
    }
   ],
   "source": [
    "# As we can see, the probability to survive is much bigger if the passenger is a woman, another variable that change influence the survival probability for each fare range\n",
    "\n",
    "df_titanic.groupby(by=['Sex'])['Survived'].sum()/df_titanic.groupby(by=['Sex'])['Survived'].count()"
   ]
  },
  {
   "cell_type": "code",
   "execution_count": 206,
   "id": "b5ce3c18",
   "metadata": {},
   "outputs": [],
   "source": [
    "# Given that we have more than 8 variables there could be a lof of combinations that would make very difficult to classify groups that are\n",
    "# prone to survive. The above exploration was just one example of how the variables can interact e influence each other to compose the \n",
    "# final outcome\n",
    "\n",
    "# To make the analysis reliable we have to adopt a method to analyze the variables and their relationships in a way that we can standartize\n",
    "\n",
    "# For this, let's use the correlation calculation, which will give us how strong the variables relate with the probability to survive, this \n",
    "# will give us a method to classify the relationship by the same patterns"
   ]
  },
  {
   "cell_type": "code",
   "execution_count": 207,
   "id": "e7ca7ea2",
   "metadata": {},
   "outputs": [],
   "source": [
    "# For this we are going to use the Point-Biserial to calculate the correlation between continuum and categorical variables\n",
    "# and the Point-Biserial correlation to calculate the correlation between two categorical variables"
   ]
  },
  {
   "cell_type": "code",
   "execution_count": 208,
   "id": "30fa5b0d",
   "metadata": {},
   "outputs": [],
   "source": [
    "# Let's start with the relationship between 'Fare' and 'Survived':"
   ]
  },
  {
   "cell_type": "code",
   "execution_count": 209,
   "id": "616e84dd",
   "metadata": {},
   "outputs": [
    {
     "name": "stdout",
     "output_type": "stream",
     "text": [
      "Correlation (Survived-Fare):  0.26 \n",
      "p-value:  6.12018934191834e-15\n"
     ]
    }
   ],
   "source": [
    "# Correlation between 'Fare' and 'Survived' variable:\n",
    "\n",
    "print(\"Correlation (Survived-Fare): \", round(stats.pointbiserialr(df_titanic['Survived'], df_titanic['Fare'])[0], 2), \"\\n\"\n",
    "      \"p-value: \", stats.pointbiserialr(df_titanic['Survived'], df_titanic['Fare'])[1])"
   ]
  },
  {
   "cell_type": "code",
   "execution_count": 210,
   "id": "63f44c49",
   "metadata": {},
   "outputs": [],
   "source": [
    "# Fare seems to have a medium correlation, in other words, the fact of paying more money for the travel imply that you are likely to survive. \n",
    "# So somehow people that have more money were prioritized to get the boats for example"
   ]
  },
  {
   "cell_type": "code",
   "execution_count": 211,
   "id": "a6edfaa3",
   "metadata": {},
   "outputs": [],
   "source": [
    "# For the correlation between 'Age' and 'Survived' we see that the correlation is not strong as the correlation between begin a child or not, given that the protocol \n",
    "# was adopt for children, so doesn't depend strictly on ages"
   ]
  },
  {
   "cell_type": "code",
   "execution_count": 212,
   "id": "9e08adb6",
   "metadata": {},
   "outputs": [
    {
     "name": "stdout",
     "output_type": "stream",
     "text": [
      "Correlation (Survived-Age):  -0.07 \n",
      "p-value:  0.03721708372681355\n"
     ]
    }
   ],
   "source": [
    "print(\"Correlation (Survived-Age): \", round(stats.pointbiserialr(df_titanic['Survived'], df_titanic['Age'])[0], 2), \"\\n\"\n",
    "      \"p-value: \", stats.pointbiserialr(df_titanic['Survived'], df_titanic['Age'])[1])"
   ]
  },
  {
   "cell_type": "code",
   "execution_count": 213,
   "id": "71a9c4aa",
   "metadata": {},
   "outputs": [],
   "source": [
    "# The rest of the variables are categorical, for this we use other correlation calculation called 'Chi-Square', which calculates the correlation between two categorical variables\n",
    "# But first we need to transform the categorical variables into integer so we can calculate the Chi-Square correlation"
   ]
  },
  {
   "cell_type": "code",
   "execution_count": 214,
   "id": "f52c3230",
   "metadata": {},
   "outputs": [],
   "source": [
    "# For this we can use the function factorize that attributes an integer for every different text in the column. \n",
    "# Applying the factorize for every categorical column\n",
    "\n",
    "# Embarked\n",
    "df_titanic['Embarked_int'] = pd.factorize(df_titanic['Embarked'])[0]\n",
    "\n",
    "# Ticket\n",
    "df_titanic['Ticket_int'] = pd.factorize(df_titanic['Ticket'])[0]\n",
    "\n",
    "# Sex\n",
    "df_titanic['Sex_int'] = pd.factorize(df_titanic['Sex'])[0]\n",
    "\n",
    "# Sex\n",
    "df_titanic['Child'] = pd.factorize(df_titanic['Maturity'])[0]"
   ]
  },
  {
   "cell_type": "code",
   "execution_count": 215,
   "id": "d7341fc8",
   "metadata": {},
   "outputs": [
    {
     "data": {
      "text/plain": [
       "Index(['PassengerId', 'Survived', 'Pclass', 'Name', 'Sex', 'Age', 'SibSp',\n",
       "       'Parch', 'Ticket', 'Fare', 'Embarked', 'FareChunks_Range', 'Maturity',\n",
       "       'Embarked_int', 'Ticket_int', 'Sex_int', 'Child'],\n",
       "      dtype='object')"
      ]
     },
     "execution_count": 215,
     "metadata": {},
     "output_type": "execute_result"
    }
   ],
   "source": [
    "df_titanic.columns"
   ]
  },
  {
   "cell_type": "code",
   "execution_count": 216,
   "id": "bcb3ddd6",
   "metadata": {},
   "outputs": [
    {
     "name": "stdout",
     "output_type": "stream",
     "text": [
      "Chi-Square correlation (Survive-Sex) 0.54 \n",
      " p-value 1.406066130878715e-69 \n",
      "\n",
      "Chi-Square correlation (Survive-Ticket Class) -0.34 \n",
      " p-value 2.537047387978631e-25 \n",
      "\n",
      "Chi-Square correlation (Survived-Being a Child) 0.12 \n",
      " p-value 0.0004825951511510082 \n",
      "\n",
      "Chi-Square correlation (Survived-Embarked Origin) 0.11 \n",
      " p-value 0.0014083124205684283 \n",
      "\n",
      "Chi-Square correlation (Survived-Ticket Type) -0.05 \n",
      " p-value 0.15835561128996709 \n",
      "\n",
      "----------------\n",
      "\n",
      "Point-Biserial correlation (Survived-Fare) 0.26 \n",
      " p-value 6.12018934191834e-15 \n",
      "\n",
      "Point-Biserial correlation (Survived-# Sons & Parents) 0.08 \n",
      " p-value 0.014799245374712763 \n",
      "\n",
      "Point-Biserial correlation (Survived-Age) -0.07 \n",
      " p-value 0.03721708372681355 \n",
      "\n",
      "Point-Biserial correlation (Survived-# Siblings & Spouses) -0.04 \n",
      " p-value 0.2922439286980196 \n",
      "\n"
     ]
    }
   ],
   "source": [
    "# The rest of the variables are categorical, for this we use other correlation calculation called 'Chi-Square', which \n",
    "# calculates the correlation between two categorical variables\n",
    "# Above we have the correlations ordered in descendent order along with the type of correlation applied\n",
    "\n",
    "# Chi-Square Correlation\n",
    "\n",
    "# Chi Square correlation between sex and survive\n",
    "print(\"Chi-Square correlation (Survive-Sex)\", round(stats.pointbiserialr(df_titanic['Survived'], df_titanic['Sex_int'])[0], 2), \"\\n\", \n",
    "    \"p-value\", stats.pointbiserialr(df_titanic['Survived'], df_titanic['Sex_int'])[1], \"\\n\")\n",
    "\n",
    "# Chi-Square correlation between ticket class and survive\n",
    "print(\"Chi-Square correlation (Survive-Ticket Class)\", round(stats.pointbiserialr(df_titanic['Survived'], df_titanic['Pclass'])[0], 2), \"\\n\",\n",
    "     \"p-value\", stats.pointbiserialr(df_titanic['Survived'], df_titanic['Pclass'])[1], \"\\n\")\n",
    "\n",
    "# Chi-Square correlation between ticket type and survive\n",
    "print(\"Chi-Square correlation (Survived-Being a Child)\", round(stats.pointbiserialr(df_titanic['Survived'], df_titanic['Child'])[0], 2), \"\\n\", \n",
    "    \"p-value\", stats.pointbiserialr(df_titanic['Survived'], df_titanic['Child'])[1], \"\\n\")\n",
    "\n",
    "# Chi-Square correlation between embark origin and survive\n",
    "print(\"Chi-Square correlation (Survived-Embarked Origin)\", round(stats.pointbiserialr(df_titanic['Survived'], df_titanic['Embarked_int'])[0], 2), \"\\n\",\n",
    "     \"p-value\", stats.pointbiserialr(df_titanic['Survived'], df_titanic['Embarked_int'])[1], \"\\n\")\n",
    "\n",
    "# Chi-Square correlation between ticket type and survive\n",
    "print(\"Chi-Square correlation (Survived-Ticket Type)\", round(stats.pointbiserialr(df_titanic['Survived'], df_titanic['Ticket_int'])[0], 2), \"\\n\", \n",
    "    \"p-value\", stats.pointbiserialr(df_titanic['Survived'], df_titanic['Ticket_int'])[1], \"\\n\")\n",
    "\n",
    "print(\"----------------\\n\")\n",
    "\n",
    "# Point-Biserial correlation between fare origin and survive\n",
    "print(\"Point-Biserial correlation (Survived-Fare)\", round(stats.pointbiserialr(df_titanic['Survived'], df_titanic['Fare'])[0], 2), \"\\n\", \n",
    "    \"p-value\", stats.pointbiserialr(df_titanic['Survived'], df_titanic['Fare'])[1], \"\\n\")\n",
    "\n",
    "# Point-Biserial correlation between # of sons and parents and survive\n",
    "print(\"Point-Biserial correlation (Survived-# Sons & Parents)\", round(stats.pointbiserialr(df_titanic['Survived'], df_titanic['Parch'])[0], 2), \"\\n\", \n",
    "    \"p-value\", stats.pointbiserialr(df_titanic['Survived'], df_titanic['Parch'])[1], \"\\n\")\n",
    "\n",
    "# Point-Biserial correlation between age origin and survive\n",
    "print(\"Point-Biserial correlation (Survived-Age)\", round(stats.pointbiserialr(df_titanic['Survived'], df_titanic['Age'])[0], 2), \"\\n\", \n",
    "    \"p-value\", stats.pointbiserialr(df_titanic['Survived'], df_titanic['Age'])[1], \"\\n\")\n",
    "\n",
    "# Point-Biserial correlation between # of siblings and spouses and survive\n",
    "print(\"Point-Biserial correlation (Survived-# Siblings & Spouses)\", round(stats.pointbiserialr(df_titanic['Survived'], df_titanic['SibSp'])[0], 2), \"\\n\", \n",
    "    \"p-value\", stats.pointbiserialr(df_titanic['Survived'], df_titanic['SibSp'])[1], \"\\n\")"
   ]
  },
  {
   "cell_type": "code",
   "execution_count": 217,
   "id": "80305a2c",
   "metadata": {},
   "outputs": [],
   "source": [
    "# From the above list we can notice that the variables 'Sex', 'Ticket Class', 'Being a Child' and 'Embarked Origin' have moderate to very weak (0.59 - 0) correlation\n",
    "# by the Chi-Square with correlation and have small p-value\n",
    "# whereas 'Fare', '# Sons & Parents' and 'Age' have have medium or weak and very weak correlation (0.39 - 0) and small p-values\n",
    "\n",
    "# That's the variables that can tell better which passengers have higher probability to survive based on the data\n",
    "# and are the variables that we are going to use in our prediction models"
   ]
  },
  {
   "cell_type": "code",
   "execution_count": 218,
   "id": "5c68ba8b",
   "metadata": {},
   "outputs": [
    {
     "data": {
      "text/plain": [
       "Index(['PassengerId', 'Survived', 'Pclass', 'Name', 'Sex', 'Age', 'SibSp',\n",
       "       'Parch', 'Ticket', 'Fare', 'Embarked', 'FareChunks_Range', 'Maturity',\n",
       "       'Embarked_int', 'Ticket_int', 'Sex_int', 'Child'],\n",
       "      dtype='object')"
      ]
     },
     "execution_count": 218,
     "metadata": {},
     "output_type": "execute_result"
    }
   ],
   "source": [
    "df_titanic.columns"
   ]
  },
  {
   "cell_type": "code",
   "execution_count": 219,
   "id": "12421c6b",
   "metadata": {},
   "outputs": [],
   "source": [
    "# Filtering the variables to use in the models\n",
    "df_titanic = df_titanic[['Survived', 'Pclass', 'Age', 'SibSp',\n",
    "       'Parch', 'Fare', 'Embarked_int', 'Sex_int', 'Child']]"
   ]
  },
  {
   "cell_type": "code",
   "execution_count": 220,
   "id": "4ce1ac28",
   "metadata": {},
   "outputs": [],
   "source": [
    "# Now that we have the variables with the higher correlation with the 'Survived' outcome, we are going to build a machine learning model with\n",
    "# these variables in order to predict who is likely to survive based on the data available, as well as get insight from the models for how\n",
    "# they choose the variable in order to predict the outcome"
   ]
  },
  {
   "cell_type": "code",
   "execution_count": 221,
   "id": "a64e3bc7",
   "metadata": {},
   "outputs": [],
   "source": [
    "# The first model to be applied is the decision tree, a model the create a series of nodes that function as 'ifs' that lead to different\n",
    "# outcomes based on the rules on each node that the model define based on the \"correlation\" of the variables with the outcome"
   ]
  },
  {
   "cell_type": "code",
   "execution_count": 222,
   "id": "9a779506",
   "metadata": {},
   "outputs": [],
   "source": [
    "# Decision tree model"
   ]
  },
  {
   "cell_type": "code",
   "execution_count": 223,
   "id": "9d3daac1",
   "metadata": {},
   "outputs": [
    {
     "name": "stdout",
     "output_type": "stream",
     "text": [
      "Accuracy:  0.76 \n",
      "\n",
      "Confusion Matrix:\n",
      " [[128  29]\n",
      " [ 35  76]] \n",
      "\n"
     ]
    }
   ],
   "source": [
    "# Split the data between predictor and target variables\n",
    "\n",
    "# Predictor variable\n",
    "df_titanic_predictor = df_titanic[['Pclass', 'Age', 'SibSp', 'Parch',\n",
    "    'Fare', 'Child', 'Embarked_int', 'Sex_int']]\n",
    "\n",
    "# Target variable\n",
    "df_titanic_target = df_titanic['Survived']\n",
    "\n",
    "# Split between test and train variables\n",
    "X_train, X_test, y_train, y_test = train_test_split(df_titanic_predictor, df_titanic_target, test_size=0.3, random_state=42)\n",
    "\n",
    "# Instantiate the model\n",
    "cfl = DecisionTreeClassifier()\n",
    "\n",
    "# Train the model\n",
    "cfl.fit(X_train, y_train)\n",
    "\n",
    "# Predict the outcomes based on the test data\n",
    "y_pred = cfl.predict(X_test)\n",
    "\n",
    "# Evaluate the results using the accuracy measure\n",
    "accuracy = cfl.score(X_test, y_test)\n",
    "\n",
    "# Print accuracy\n",
    "print(\"Accuracy: \", round(accuracy, 2), \"\\n\")\n",
    "\n",
    "# avaliando o desempenho do modelo com a matriz de confusão\n",
    "cm = confusion_matrix(y_test, y_pred)\n",
    "print('Confusion Matrix:\\n', cm, \"\\n\")"
   ]
  },
  {
   "cell_type": "code",
   "execution_count": 224,
   "id": "7b3717de",
   "metadata": {},
   "outputs": [
    {
     "name": "stdout",
     "output_type": "stream",
     "text": [
      "Without improvements on the model, we were able to predict correctly 76.12% of the cases\n",
      " Being 128 true negatives and 76 true positives of a total 891 cases.\n",
      " The number os nodes is 295\n"
     ]
    }
   ],
   "source": [
    " print(f\"Without improvements on the model, we were able to predict correctly {round(accuracy*100, 2)}% of the cases\\n \\\n",
    " Being {confusion_matrix(y_test, y_pred)[0][0]} true negatives and {confusion_matrix(y_test, y_pred)[1][1]} true positives \\\n",
    " of a total {len(df_titanic)} cases.\\n \\\n",
    " The number os nodes is {cfl.tree_.node_count}\")    "
   ]
  },
  {
   "cell_type": "code",
   "execution_count": 245,
   "id": "6d8d1ce5",
   "metadata": {},
   "outputs": [
    {
     "data": {
      "image/png": "[encoded data removed]",
      "text/plain": [
       "<IPython.core.display.Image object>"
      ]
     },
     "execution_count": 245,
     "metadata": {},
     "output_type": "execute_result"
    }
   ],
   "source": [
    "# Generate the visualization of the decision tree model\n",
    "dot_data = export_graphviz(cfl, out_file=None, feature_names=df_titanic_predictor.columns, class_names='Survived')\n",
    "\n",
    "# Visualize the decision tree using Graphviz\n",
    "graph = graphviz.Source(dot_data)\n",
    "png_bytes = graph.pipe(format='png')\n",
    "\n",
    "# Create a PIL.Image object from the PNG bytes\n",
    "pil_image = PIL_Image.open(io.BytesIO(png_bytes))\n",
    "\n",
    "# Crop the PIL.Image object\n",
    "left = 3500\n",
    "top = 0\n",
    "right = 5400\n",
    "bottom = 600\n",
    "cropped_pil_image = pil_image.crop((left, top, right, bottom))\n",
    "\n",
    "# Convert the cropped PIL.Image object back to a PNG bytes object\n",
    "cropped_png_bytes = io.BytesIO()\n",
    "cropped_pil_image.save(cropped_png_bytes, format='png')\n",
    "cropped_png_bytes = cropped_png_bytes.getvalue()\n",
    "\n",
    "# Display the cropped image\n",
    "Image(cropped_png_bytes)"
   ]
  },
  {
   "cell_type": "code",
   "execution_count": 226,
   "id": "1e4cb265",
   "metadata": {},
   "outputs": [],
   "source": [
    "# Explain hyperparameters!!"
   ]
  },
  {
   "cell_type": "code",
   "execution_count": 227,
   "id": "697b58a8",
   "metadata": {},
   "outputs": [],
   "source": [
    "# In order to improve the model we are going to apply the hyperparameter technique which will iterate the model through different parameters and ranges\n",
    "# and will choose the best ones that results in the higher accuracy"
   ]
  },
  {
   "cell_type": "code",
   "execution_count": 228,
   "id": "a86a774b",
   "metadata": {
    "scrolled": true
   },
   "outputs": [
    {
     "name": "stdout",
     "output_type": "stream",
     "text": [
      "Best parameters: {'criterion': 'gini', 'max_depth': 5, 'min_samples_leaf': 4} \n",
      "\n",
      "Accuracy: 0.79 \n",
      "\n",
      "Confusion Matrix:\n",
      " [[133  24]\n",
      " [ 31  80]]\n"
     ]
    }
   ],
   "source": [
    "# Instantiate the model\n",
    "model = DecisionTreeClassifier()\n",
    "\n",
    "# Define the hyperparameters to be adjusted\n",
    "param_grid = {'criterion': ['gini', 'entropy'],\n",
    "              'max_depth': [2, 3, 4, 5, 6],\n",
    "              'min_samples_leaf': [1, 2, 3, 4, 5]}\n",
    "\n",
    "# Instantiate the GridSearchCV object\n",
    "grid_search = GridSearchCV(model, param_grid=param_grid, cv=5)\n",
    "\n",
    "# Train the GridSearchCV model\n",
    "grid_search.fit(X_train, y_train)\n",
    "\n",
    "# Get the best parameters\n",
    "best_params = grid_search.best_params_\n",
    "print(\"Best parameters:\", best_params, \"\\n\")\n",
    "\n",
    "# Build a new model with the best parameters\n",
    "model = DecisionTreeClassifier(criterion=best_params['criterion'], max_depth=best_params['max_depth'], \n",
    "                               min_samples_leaf=best_params['min_samples_leaf'])\n",
    "\n",
    "# Train the model again with the best parameters\n",
    "model.fit(X_train, y_train)\n",
    "\n",
    "# Predict using the test sample\n",
    "y_pred = model.predict(X_test)\n",
    "\n",
    "# Calculate the accuary\n",
    "accuracy = accuracy_score(y_test, y_pred)\n",
    "print(\"Accuracy:\", round(accuracy, 2), \"\\n\")\n",
    "\n",
    "# Evaluate the model performance with the confusion matrix\n",
    "cm = confusion_matrix(y_test, y_pred)\n",
    "print('Confusion Matrix:\\n', cm)"
   ]
  },
  {
   "cell_type": "code",
   "execution_count": 229,
   "id": "cee5800d",
   "metadata": {},
   "outputs": [
    {
     "name": "stdout",
     "output_type": "stream",
     "text": [
      "After improving the model using hyperparameters, we were able to predict correctly 79.48% of the cases\n",
      " Being 133 true negatives and 80 true positives of a total 891 cases.\n",
      " The number os nodes is 295\n"
     ]
    }
   ],
   "source": [
    " print(f\"After improving the model using hyperparameters, we were able to predict correctly {round(accuracy*100, 2)}% of the cases\\n \\\n",
    " Being {confusion_matrix(y_test, y_pred)[0][0]} true negatives and {confusion_matrix(y_test, y_pred)[1][1]} true positives \\\n",
    " of a total {len(df_titanic)} cases.\\n \\\n",
    " The number os nodes is {cfl.tree_.node_count}\")"
   ]
  },
  {
   "cell_type": "code",
   "execution_count": 230,
   "id": "54e7dcde",
   "metadata": {},
   "outputs": [],
   "source": [
    "# Now we apply the logistic regression to evaluate which model perform better"
   ]
  },
  {
   "cell_type": "code",
   "execution_count": 231,
   "id": "697e1e14",
   "metadata": {},
   "outputs": [
    {
     "name": "stdout",
     "output_type": "stream",
     "text": [
      "0.79\n",
      "Confusion Matrix:\n",
      " [[134  23]\n",
      " [ 32  79]]\n"
     ]
    }
   ],
   "source": [
    "# Instatiate the model\n",
    "clf_lr = LogisticRegression()\n",
    "\n",
    "# Fit the model\n",
    "clf_lr.fit(X_train, y_train)\n",
    "\n",
    "# Predict the values\n",
    "y_pred = clf_lr.predict(X_test)\n",
    "\n",
    "# Calculate accuracy\n",
    "accuracy_lr = accuracy_score(y_test, y_pred)\n",
    "print(round(accuracy_lr, 2))\n",
    "\n",
    "# Evaluate the model with the confusion matrix\n",
    "cm = confusion_matrix(y_test, y_pred)\n",
    "print('Confusion Matrix:\\n', cm)"
   ]
  },
  {
   "cell_type": "code",
   "execution_count": 232,
   "id": "4e915110",
   "metadata": {},
   "outputs": [
    {
     "name": "stdout",
     "output_type": "stream",
     "text": [
      "Without improvements on the model, we were able to predict correctly 79.48% of the cases\n",
      " Being 134 true negatives and 79 true positives of a total 891 cases.\n"
     ]
    }
   ],
   "source": [
    " print(f\"Without improvements on the model, we were able to predict correctly {round(accuracy_lr*100, 2)}% of the cases\\n \\\n",
    " Being {confusion_matrix(y_test, y_pred)[0][0]} true negatives and {confusion_matrix(y_test, y_pred)[1][1]} true positives \\\n",
    " of a total {len(df_titanic)} cases.\")"
   ]
  },
  {
   "cell_type": "code",
   "execution_count": 233,
   "id": "92c9191c",
   "metadata": {},
   "outputs": [],
   "source": [
    "# Applying hyperparameters in the logistic regression model"
   ]
  },
  {
   "cell_type": "code",
   "execution_count": 234,
   "id": "f3614e5e",
   "metadata": {
    "scrolled": false
   },
   "outputs": [
    {
     "name": "stdout",
     "output_type": "stream",
     "text": [
      "Best parameters:\n",
      "{'C': 0.1, 'class_weight': None, 'max_iter': 100, 'penalty': 'l2', 'solver': 'newton-cg'} \n",
      "\n",
      "Accuracy: 0.82 \n",
      "\n",
      "Confusion Matrix:\n",
      "[[141  16]\n",
      " [ 32  79]]\n"
     ]
    }
   ],
   "source": [
    "# Ignore warnings\n",
    "warnings.filterwarnings('ignore')\n",
    "\n",
    "# Instantiate the logistic regression model\n",
    "model = LogisticRegression()\n",
    "\n",
    "# Define the hyperparameters to be searched\n",
    "param_grid = {\n",
    "    'penalty': ['l1', 'l2', 'elasticnet', 'none'],\n",
    "    'C': [0.001, 0.01, 0.1, 1, 10, 100],\n",
    "    'solver': ['newton-cg', 'lbfgs', 'liblinear', 'sag', 'saga'],\n",
    "    'max_iter': [100, 500, 1000],\n",
    "    'class_weight': [None, 'balanced']\n",
    "}\n",
    "\n",
    "# Define the cross strategy\n",
    "cv = 5\n",
    "\n",
    "# Define Grid Search with the parameters\n",
    "grid_search = GridSearchCV(model, param_grid=param_grid, cv=cv, n_jobs=-1)\n",
    "\n",
    "# Train the Grid Search model\n",
    "grid_search.fit(X_train, y_train)\n",
    "\n",
    "# Print the best parameters\n",
    "print(\"Best parameters:\")\n",
    "print(grid_search.best_params_, \"\\n\")\n",
    "\n",
    "# Create a new instance of the model with the best hyperparameters\n",
    "best_model = LogisticRegression(**grid_search.best_params_)\n",
    "\n",
    "# Fit the new model on the entire training set\n",
    "best_model.fit(X_train, y_train)\n",
    "\n",
    "# Predict the results\n",
    "y_pred = best_model.predict(X_test)\n",
    "\n",
    "# Print accuracy\n",
    "print(\"Accuracy:\", round(accuracy_score(y_test, y_pred), 2), \"\\n\")\n",
    "\n",
    "# Print confusion matrix\n",
    "print(\"Confusion Matrix:\")\n",
    "print(confusion_matrix(y_test, y_pred))"
   ]
  },
  {
   "cell_type": "code",
   "execution_count": 235,
   "id": "eabded1b",
   "metadata": {},
   "outputs": [],
   "source": [
    "# The logistic regression model performed better (82% accuracy) than the decision tree model (79% accuracy) and the hyperparameter method was applied\n",
    "# Both results were reasonable and do not have much difference in results\n",
    "\n",
    "# One possible explanation why the regression model performed better is that the regression is better to predict complex relations between the variables\n",
    "# than the logistic regression that is based on a set of rules that sometimes can not get all the relations in the best way\n",
    "\n",
    "# The decision tree model is best suited for classification problems where the results are made of groups, in the other hand linear model\n",
    "# are best suit for problems where the results did not perform groups given that this model approach the problem by a continumn regression not being \n",
    "# best to separate groups as the decision tree does"
   ]
  },
  {
   "cell_type": "markdown",
   "id": "9bdda44c",
   "metadata": {},
   "source": [
    "#### Theory"
   ]
  },
  {
   "cell_type": "markdown",
   "id": "14c630df",
   "metadata": {},
   "source": [
    "##### Chi-Square correlation"
   ]
  },
  {
   "cell_type": "markdown",
   "id": "0e791203",
   "metadata": {},
   "source": [
    "<span style=\"font-size: smaller\">The Chi-Square correlation is nothing but an statistical test between two categorical variables that tests if one variable is dependend on the other. This test follows the foundation of any correlation calculation that, basically, is the measure of how much one result is different from an expected result or a mean value. As different it is more likely the variables are correlated because, in theory, the expected values are values that would be expected if there is no correlation at all</span>"
   ]
  },
  {
   "cell_type": "markdown",
   "id": "d48d2d0d",
   "metadata": {},
   "source": [
    "<span style=\"font-size: smaller\">For the chi-square test, the measure of how much different the values are from the expected is as follows:</span>"
   ]
  },
  {
   "cell_type": "markdown",
   "id": "3179c69b",
   "metadata": {},
   "source": [
    "$$\n",
    "\\chi^2 = \\sum_{i=1}^{n}\\sum_{j=1}^{m} \\frac{(O_{i,j}-E_{i,j})^2}{E_{i,j}}\n",
    "$$"
   ]
  },
  {
   "cell_type": "markdown",
   "id": "78602caa",
   "metadata": {},
   "source": [
    "<span style=\"font-size: smaller\">where $O_{i,j}$ are the observed values and the $E_{i,j}$ are the expected values from the variables $i$ and $j$ for $n$ observed values and $m$ variables</span>"
   ]
  },
  {
   "cell_type": "markdown",
   "id": "7195e92f",
   "metadata": {},
   "source": [
    "<span style=\"font-size: smaller\">The higher the value of $\\chi^2$ the smaller the probability that the variables don't have a correlation. This probability is called <i>p-value</i> which can be extracted from the chi-square distribution given the chi-square value and the relation between the number of observed $n$ and the number of variables $m$ that is called degrees of freedom $df$ and the confidence level which shape the chi-square distribution</span>"
   ]
  },
  {
   "cell_type": "markdown",
   "id": "cb83e836",
   "metadata": {},
   "source": [
    "<span style=\"font-size: smaller\">\n",
    "The degrees of freedom ($df$) is given by </span>\n"
   ]
  },
  {
   "cell_type": "markdown",
   "id": "52c4892b",
   "metadata": {},
   "source": [
    "<span style=\"font-size: smaller\">\n",
    "$df = (n-1)(m-1)$</span>"
   ]
  },
  {
   "cell_type": "markdown",
   "id": "7b82bb5d",
   "metadata": {},
   "source": [
    "##### Point-Biserial Correlation"
   ]
  },
  {
   "cell_type": "markdown",
   "id": "c744a099",
   "metadata": {},
   "source": [
    "<span style=\"font-size: smaller\">On the other hand, the Point-Biserial correlation calculates the correlation between a categorical variable (dichotomous on this case) and a continuum one. Similarly, the idea here is to compare the mean values of the continuum variable on the dichotomous variable. Given here as $1$ and $0$.</span>"
   ]
  },
  {
   "cell_type": "markdown",
   "id": "131d22d7",
   "metadata": {},
   "source": [
    "<span style=\"font-size: smaller\">\n",
    "The Point-Biserrial correlation $(r_{pb})$ is given by:</span>"
   ]
  },
  {
   "cell_type": "markdown",
   "id": "996def31",
   "metadata": {},
   "source": [
    "$$r_{pb} = \\frac{\\bar{X_1} - \\bar{X_0}}{s_p}\\sqrt{\\frac{n_1n_0}{n(n-1)}}$$"
   ]
  },
  {
   "cell_type": "markdown",
   "id": "c6b6c634",
   "metadata": {},
   "source": [
    "<span style=\"font-size: smaller\">\n",
    "Where $\\bar{X_1}$ is the mean of the continuum variable on the group $1$ and $\\bar{X_0}$ on the group $0$ and $S_p$ being the standard deviation which give us an idea of how distant each mean are, indicating a correlation\n",
    "</span>"
   ]
  },
  {
   "cell_type": "markdown",
   "id": "8bc52a78",
   "metadata": {},
   "source": [
    "<span style=\"font-size: smaller\">\n",
    "The second part of the equation:</span>"
   ]
  },
  {
   "cell_type": "markdown",
   "id": "8b8b6468",
   "metadata": {},
   "source": [
    "$\\sqrt{\\frac{n_1n_0}{n(n-1)}}$"
   ]
  },
  {
   "cell_type": "markdown",
   "id": "42a50c97",
   "metadata": {},
   "source": [
    "<span style=\"font-size: smaller\">\n",
    "Where $n_1$, $n_0$ and $n$ are, respectively, the number of samples of the groups $1$, $0$ and the total samples. This term is needed to get rid of effects concerning to unequal groups</span>"
   ]
  },
  {
   "cell_type": "markdown",
   "id": "28168322",
   "metadata": {},
   "source": [
    "##### Decision Tree Model"
   ]
  },
  {
   "cell_type": "markdown",
   "id": "ddf36844",
   "metadata": {},
   "source": [
    "<span style=\"font-size: smaller\">A decision tree model is basically a model the defines a set of rules (called nodes) that decide how a target value will be predict based on the input features. For example, let's say that in a dataset women is more likely to be relaxed than men. \\\n",
    "    On that case the decision tree model will likely create a node that defines if the input data is from a woman, then it will classify the person as relaxed. The model can be as complex as it's needed in a way that it can create a lot of rules to get the behavior of the model.</span>"
   ]
  },
  {
   "cell_type": "markdown",
   "id": "7257f7f8",
   "metadata": {},
   "source": [
    "<span style=\"font-size: smaller\">\n",
    "To define the set of rules, the model needs to know which features are more important to predict the target value, for example, how correlated a feature is with the target. The decision tree model uses a different measure to find out that. For example, it could be the Entropy or the Giny criterion.\n",
    "</span>"
   ]
  },
  {
   "cell_type": "markdown",
   "id": "0c88fcf6",
   "metadata": {},
   "source": [
    "<span style=\"font-size: smaller\">Regardless of the method used it has to tell us how good the input data can predict the target variable. For example, if we use the concept of entropy, we can measure the disorder of the system based on one feature variable. \\\n",
    "Let's say that if the system has a large desorder with respect to one feature, it means that this variable is likely to not separate well the target, in other words, it's not a good choice for the node. Otherwise, if the disorder is small it would be a good choice to use in the node.\n",
    "</span>"
   ]
  },
  {
   "cell_type": "markdown",
   "id": "fdad94bd",
   "metadata": {},
   "source": [
    "<span style=\"font-size: smaller\">\n",
    "The Entropy criterion $H(S)$ is given by:</span>"
   ]
  },
  {
   "cell_type": "markdown",
   "id": "95dadc4d",
   "metadata": {},
   "source": [
    "$$H(S) = -\\sum_{i=1}^{c} p_i \\log_2{p_i}$$"
   ]
  },
  {
   "cell_type": "markdown",
   "id": "4a68c867",
   "metadata": {},
   "source": [
    "<span style=\"font-size: smaller\">Where, for a set S, $p_i$ is the proportion of samples that belong to the class $i$ for a total number $c$ of classes.</span>"
   ]
  },
  {
   "cell_type": "markdown",
   "id": "11af98da",
   "metadata": {},
   "source": [
    "<span style=\"font-size: smaller\">The logarithm will output values between 1 and 0 in order to inform if the system is disordered (1) and 0 when the system is ordered, i.e, when a dichotomous variable is in unequal proportion. The factor $p_i$ aims to assign a weight for the class of the variable, in a way that it prevents from assign the same weight for classes that are not frequent. Below we can see how the entropy function behavior:</span>"
   ]
  },
  {
   "cell_type": "code",
   "execution_count": 236,
   "id": "6988c89f",
   "metadata": {},
   "outputs": [
    {
     "data": {
      "text/html": [
       "<img src=\"https://nulpointerexception.com/wp-content/uploads/2017/11/entropy_graph.gif?w=2048\" width=\"500\"/>"
      ],
      "text/plain": [
       "<IPython.core.display.Image object>"
      ]
     },
     "execution_count": 236,
     "metadata": {},
     "output_type": "execute_result"
    }
   ],
   "source": [
    "Image(url='https://nulpointerexception.com/wp-content/uploads/2017/11/entropy_graph.gif?w=2048', width=500)"
   ]
  },
  {
   "cell_type": "markdown",
   "id": "1670af27",
   "metadata": {},
   "source": [
    "\n",
    "<span style=\"font-size: smaller\">Source: https://nulpointerexception.com/2017/12/13/entropy-in-machine-learning/</span>"
   ]
  },
  {
   "cell_type": "markdown",
   "id": "078bc0ca",
   "metadata": {},
   "source": [
    "<span style=\"font-size: smaller\">To define if creating a node based on a variable is a good choice we use a measure that compares the entropy of the general system with the entropy related to the variable, this measure is called Information Gain (IG) and is given as above:</span>"
   ]
  },
  {
   "cell_type": "markdown",
   "id": "30a5cea1",
   "metadata": {},
   "source": [
    "$$IG(S, A) = H(S) - \\sum_{v \\in Values(A)} \\frac{|S_v|}{|S|} H(S_v)$$"
   ]
  },
  {
   "cell_type": "markdown",
   "id": "e2b35989",
   "metadata": {},
   "source": [
    "<span style=\"font-size: smaller\">\n",
    "Where S is the set, $A$ the feature, $Values(A)$ the group of features, $v$ the class, $S_v$ the number of data labeled as v and $|H(S_v)|$ is the entropy of the set V labeled as $v$ and $S$ the number of data in the group $|S|$. </span>"
   ]
  },
  {
   "cell_type": "markdown",
   "id": "0ded57f3",
   "metadata": {},
   "source": [
    "<span style=\"font-size: smaller\">This way the features that maximizes the information gain should be used in the nodes, where the features with the highest values should be chosen first. \\\n",
    "\\\n",
    "For continuum features, the IG must be calculated for all the range in order to find the best split for the nodes.</span>"
   ]
  },
  {
   "cell_type": "markdown",
   "id": "3af058c5",
   "metadata": {},
   "source": [
    "##### Logistic Regression Model"
   ]
  },
  {
   "cell_type": "markdown",
   "id": "bc188d5b",
   "metadata": {},
   "source": [
    "<span style=\"font-size: smaller\">The logistic regression model is based on the linear regression model that assumes linear relationships between the features and the target. \\\n",
    "To use linear models for categorical variables, we need to use a function that transforms a continum variable to a categorical variable. For example, if the target is dichotomous, we use a logistic function that transforms a cotinuum range to a binary, so in this case the model will be called logistic regression.\n",
    "</span>"
   ]
  },
  {
   "cell_type": "markdown",
   "id": "f134e020",
   "metadata": {},
   "source": [
    "<span style=\"font-size: smaller\">We use a logistic function that transforms a cotinuum range to a binary variable of 0 and 1 called sigmoid function that is given by:\n",
    "</span>"
   ]
  },
  {
   "cell_type": "markdown",
   "id": "623fd087",
   "metadata": {},
   "source": [
    "\\begin{equation}\n",
    "h(x) = \\frac{1}{1+\\exp[-(\\beta_0 + \\beta_1 x_1 + \\dots + \\beta_p x_p)]}\n",
    "\\end{equation}"
   ]
  },
  {
   "cell_type": "markdown",
   "id": "5d81e240",
   "metadata": {},
   "source": [
    "<span style=\"font-size: smaller\">Where h is the target value, $\\beta_i$ the parameter the aproximates the target value, and $x$ the features.</span>"
   ]
  },
  {
   "cell_type": "markdown",
   "id": "907f5220",
   "metadata": {},
   "source": [
    "<span style=\"font-size: smaller\">The output will be in the range between 0 and 1 (as can be seen in the figure below). To generate the binary variable, if the $h(x)$ is less than 0.5 we choose 0 as the outcome, otherwise we choose 1.</span>"
   ]
  },
  {
   "cell_type": "code",
   "execution_count": 237,
   "id": "70c3dce4",
   "metadata": {},
   "outputs": [
    {
     "data": {
      "text/html": [
       "<img src=\"https://hvidberrrg.github.io/deep_learning/activation_functions/assets/sigmoid_function.png\" width=\"500\"/>"
      ],
      "text/plain": [
       "<IPython.core.display.Image object>"
      ]
     },
     "execution_count": 237,
     "metadata": {},
     "output_type": "execute_result"
    }
   ],
   "source": [
    "Image(url='https://hvidberrrg.github.io/deep_learning/activation_functions/assets/sigmoid_function.png', width=500)"
   ]
  },
  {
   "cell_type": "markdown",
   "id": "fbb687d3",
   "metadata": {},
   "source": [
    "<span style=\"font-size: smaller\">Source: https://hvidberrrg.github.io/deep_learning/activation_functions/sigmoid_function_and_derivative.html</span>"
   ]
  },
  {
   "cell_type": "markdown",
   "id": "84a93365",
   "metadata": {},
   "source": [
    "<span style=\"font-size: smaller\">Given that, now we need a method to approximate the best values for parameters $\\beta_i$ to predict the target value.</span>"
   ]
  },
  {
   "cell_type": "markdown",
   "id": "00b46a18",
   "metadata": {},
   "source": [
    "<span style=\"font-size: smaller\">One approach can be calculate the difference between the predict values and the real values and try to minimize the errors. Once that is done, we just need to find the parameters that minimizes the erros.</span>"
   ]
  },
  {
   "cell_type": "markdown",
   "id": "5bd9a26c",
   "metadata": {},
   "source": [
    "<span style=\"font-size: smaller\">To calculate the errors we use a cost function called cross-entropy that penalizes large errors and has only one minimum so it's easier to minimize. The cross-entropy cost function $J(\\theta)$ is given by:</span>"
   ]
  },
  {
   "cell_type": "markdown",
   "id": "fb3bd6e6",
   "metadata": {},
   "source": [
    "\\begin{equation}\n",
    "J(\\theta) = - \\frac{1}{m} \\sum_{i=1}^{m} \\left[y^{(i)}\\log(h_{\\beta}(x^{(i)})) + (1-y^{(i)})\\log(1-h_{\\beta}(x^{(i)}))\\right]\n",
    "\\end{equation}"
   ]
  },
  {
   "cell_type": "markdown",
   "id": "e761d6de",
   "metadata": {},
   "source": [
    "<span style=\"font-size: smaller\">Where $m$ is the size of the dataset, $y^{i}$ is the actual target value, $h_{\\beta}(x^{(i)})$ the predicted value and $i$ is the index of the data.\n",
    "</span>"
   ]
  },
  {
   "cell_type": "markdown",
   "id": "d9279fa0",
   "metadata": {},
   "source": [
    "<span style=\"font-size: smaller\">The term $y^{(i)}\\log(h_{\\beta}(x^{(i)}))$ penalizes when it is predicted low values for a positive target and the $(1-y^{(i)})\\log(1-h_{\\beta}(x^{(i)}))$ when it is predicted large values for a negative target. The use of logarithm increases the penalization.\n",
    "</span>"
   ]
  },
  {
   "cell_type": "markdown",
   "id": "1fd6aff9",
   "metadata": {},
   "source": [
    "<span style=\"font-size: smaller\">Now that we have a cost function, we can find the better parameters by minimizing the function. To do this we use the gradient descent algorithm.\n",
    "</span>"
   ]
  },
  {
   "cell_type": "markdown",
   "id": "f9af02d0",
   "metadata": {},
   "source": [
    "<span style=\"font-size: smaller\">The gradient descent algorithm is based on iterating a parameter in the direction that minimizes a function\n",
    "    to find the minimum value of the function, which is the goal of what we mentioned. In a math notation it is the following:</span>"
   ]
  },
  {
   "cell_type": "markdown",
   "id": "c8ab8878",
   "metadata": {},
   "source": [
    "$$\\beta_{j(t+1)} = \\beta_{j(t)} - \\alpha\\frac{\\partial J(\\beta)}{\\partial \\beta_j(t)}$$"
   ]
  },
  {
   "cell_type": "markdown",
   "id": "4dbf077a",
   "metadata": {},
   "source": [
    "<span style=\"font-size: smaller\">The $\\beta_{t+1}$ is the updated parameter, $\\beta_{j(t)}$ is the actual parameter, $\\alpha$ is the rate or step we take every iteration and $\\frac{\\partial J(\\beta)}{\\partial \\beta_j(t)}$ represents the parcial derivative that defines the direction of the iteration.</span>"
   ]
  },
  {
   "cell_type": "markdown",
   "id": "384de2f8",
   "metadata": {},
   "source": [
    "<span style=\"font-size: smaller\">The equation with the derivated cost function is:</span>"
   ]
  },
  {
   "cell_type": "markdown",
   "id": "388a5b17",
   "metadata": {},
   "source": [
    "$$\\beta_j(t+1) = \\beta_j(t) - \\alpha \\sum_{i=1}^m (h_{\\beta}(x^{(i)}) - y^{(i)})x_j^{(i)}$$"
   ]
  }
 ],
 "metadata": {
  "kernelspec": {
   "display_name": "Python 3 (ipykernel)",
   "language": "python",
   "name": "python3"
  },
  "language_info": {
   "codemirror_mode": {
    "name": "ipython",
    "version": 3
   },
   "file_extension": ".py",
   "mimetype": "text/x-python",
   "name": "python",
   "nbconvert_exporter": "python",
   "pygments_lexer": "ipython3",
   "version": "3.10.9"
  }
 },
 "nbformat": 4,
 "nbformat_minor": 5
}
